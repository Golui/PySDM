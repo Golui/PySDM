{
 "cells": [
  {
   "cell_type": "markdown",
   "source": [
    "[![Binder](https://mybinder.org/badge_logo.svg)](https://mybinder.org/v2/gh/atmos-cloud-sim-uj/PySDM.git/master?filepath=PySDM_tutorials/environments/kinematic_2d.ipynb)\n",
    "\n",
    "[![Open In Colab](https://colab.research.google.com/assets/colab-badge.svg)](https://colab.research.google.com/github/atmos-cloud-sim-uj/PySDM/blob/master/PySDM_tutorials/environments/kinematic_2d.ipynb)"
   ],
   "metadata": {
    "collapsed": false
   }
  },
  {
   "cell_type": "code",
   "execution_count": 1,
   "metadata": {
    "collapsed": true
   },
   "outputs": [],
   "source": [
    "\"\"\"\n",
    "clone and install PySDM dependencies in Colab\n",
    "(to use GPU on Colab set hardware accelerator to 'GPU' before session start\n",
    "in the \"Runtime :: Change runtime type :: Hardware accelerator\" menu)\n",
    "\"\"\"\n",
    "import os, sys\n",
    "if 'google.colab' in sys.modules:\n",
    "    %cd /content\n",
    "    if not os.path.isdir('PySDM'):\n",
    "        !git clone --depth 1 https://github.com/atmos-cloud-sim-uj/PySDM.git\n",
    "    %cd PySDM\n",
    "    !pip install -r requirements.txt"
   ]
  },
  {
   "cell_type": "code",
   "execution_count": 2,
   "outputs": [],
   "source": [
    "import os, sys\n",
    "if 'google.colab' in sys.modules:\n",
    "    %cd /content/PySDM\n",
    "else:\n",
    "    sys.path.insert(0, os.path.join(os.getcwd(), '../..'))"
   ],
   "metadata": {
    "collapsed": false,
    "pycharm": {
     "name": "#%%\n"
    }
   }
  },
  {
   "cell_type": "code",
   "execution_count": 3,
   "outputs": [],
   "source": [
    "import numpy as np\n",
    "\n",
    "from PySDM.physics import si\n",
    "from PySDM.backends import CPU\n",
    "from PySDM.dynamics import Displacement\n",
    "from PySDM.dynamics import EulerianAdvection\n",
    "from PySDM.dynamics import AmbientThermodynamics\n",
    "from PySDM.state.arakawa_c import Fields\n",
    "from PySDM.dynamics.eulerian_advection.mpdata import MPDATA\n",
    "from PySDM.environments import Kinematic2D\n",
    "from PySDM.products.environments import RelativeHumidity\n",
    "from PySDM.initialisation import spectral_sampling, spatial_sampling\n",
    "from PySDM.initialisation.spectra import Lognormal\n",
    "from PySDM.builder import Builder\n",
    "from PySDM.products.state import SuperDropletCount\n",
    "from PySDM.physics.formulae import th_dry\n"
   ],
   "metadata": {
    "collapsed": false,
    "pycharm": {
     "name": "#%%\n"
    }
   }
  },
  {
   "cell_type": "code",
   "execution_count": 4,
   "outputs": [],
   "source": [
    "rhod_of = lambda zZ: 1+zZ*0  # TODO\n",
    "field_values = {'qv': .5 * si.g / si.kg}\n",
    "field_values['th'] = th_dry(289 * si.K, field_values['qv'])\n"
   ],
   "metadata": {
    "collapsed": false,
    "pycharm": {
     "name": "#%%\n"
    }
   }
  },
  {
   "cell_type": "code",
   "execution_count": 5,
   "outputs": [],
   "source": [
    "builder = Builder(n_sd=1, backend=CPU)\n",
    "environment = Kinematic2D(\n",
    "    dt=1*si.s,\n",
    "    grid=(64, 64),\n",
    "    size=(1 * si.km, 1 * si.km),\n",
    "    rhod_of=rhod_of,\n",
    "    field_values=field_values\n",
    ")\n",
    "builder.set_environment(environment)"
   ],
   "metadata": {
    "collapsed": false,
    "pycharm": {
     "name": "#%%\n"
    }
   }
  },
  {
   "cell_type": "code",
   "execution_count": 6,
   "outputs": [],
   "source": [
    "def stream_function(x, z):\n",
    "    return  (.6 * si.m / si.s * (si.kg / si.m ** 3)\n",
    "             * environment.mesh.size[0]\n",
    "             / np.pi * np.sin(np.pi * z) * np.cos(2 * np.pi * x))\n",
    "\n",
    "fields = Fields(environment, stream_function)\n",
    "mpdatas = MPDATA(fields=fields)"
   ],
   "metadata": {
    "collapsed": false,
    "pycharm": {
     "name": "#%%\n"
    }
   }
  },
  {
   "cell_type": "code",
   "execution_count": 7,
   "outputs": [],
   "source": [
    "builder.add_dynamic(AmbientThermodynamics())\n",
    "builder.add_dynamic(EulerianAdvection(solvers=mpdatas))\n",
    "builder.add_dynamic(Displacement(courant_field=fields.courant_field))\n",
    "\n",
    "attributes = environment.init_attributes(\n",
    "    spatial_discretisation=spatial_sampling.Pseudorandom(),\n",
    "    spectral_discretisation=spectral_sampling.ConstantMultiplicity(\n",
    "        spectrum=Lognormal(norm_factor=60 / si.mg, m_mode=0.04 * si.um, s_geom=1.4),\n",
    "    ),\n",
    "    kappa=1 * si.dimensionless)\n",
    "products = [SuperDropletCount(), RelativeHumidity()]\n",
    "core = builder.build(attributes, products)\n",
    "\n",
    "for _ in range(10):\n",
    "    core.run(steps=10)"
   ],
   "metadata": {
    "collapsed": false,
    "pycharm": {
     "name": "#%%\n"
    }
   }
  }
 ],
 "metadata": {
  "kernelspec": {
   "display_name": "Python 3",
   "language": "python",
   "name": "python3"
  },
  "language_info": {
   "codemirror_mode": {
    "name": "ipython",
    "version": 2
   },
   "file_extension": ".py",
   "mimetype": "text/x-python",
   "name": "python",
   "nbconvert_exporter": "python",
   "pygments_lexer": "ipython2",
   "version": "2.7.6"
  }
 },
 "nbformat": 4,
 "nbformat_minor": 0
}